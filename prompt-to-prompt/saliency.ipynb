{
 "cells": [
  {
   "cell_type": "code",
   "execution_count": 1,
   "id": "25b05e2f-f035-401b-9d47-91e5dc0c16cb",
   "metadata": {},
   "outputs": [
    {
     "name": "stdout",
     "output_type": "stream",
     "text": [
      "(960, 1280)\n",
      "torch.Size([1, 3, 1280, 960])\n"
     ]
    }
   ],
   "source": [
    "#### Saliency notebook\n",
    "#### Takes an image and visualizes its saliency prediction\n",
    "\n",
    "import os\n",
    "import sys\n",
    "import io\n",
    "import time\n",
    "\n",
    "import torch\n",
    "import torchvision\n",
    "import torch.nn.functional as nnF\n",
    "import torchvision.transforms.functional as F\n",
    "import numpy as np\n",
    "import pandas as pd\n",
    "from PIL import Image\n",
    "\n",
    "def preprocess_img(img, i, j, h, w):\n",
    "    # i, j, h, w = 0, 0, 7.0/8 * 512, 14.0/8 * 512\n",
    "    img = F.crop(img, i, j, h, w)\n",
    "    #img = F.resize(img, 256, torchvision.transforms.InterpolationMode.BICUBIC)\n",
    "    img = F.to_tensor(img)\n",
    "    return img\n",
    "\n",
    "def normalize_imagenet(img):\n",
    "    img = F.normalize(img, mean=[0.485, 0.456, 0.406], std=[0.229, 0.224, 0.225])\n",
    "    return img\n",
    "\n",
    "DEVICE = torch.device(\"cuda:0\" if torch.cuda.is_available() else \"cpu\")\n",
    "\n",
    "img = Image.open('example_images/gnochi_mirror.jpeg')\n",
    "print(img.size)\n",
    "img_tensor = preprocess_img(img, 0, 0, img.size[1], img.size[0]).unsqueeze(0).to(DEVICE)\n",
    "print(img_tensor.shape)\n"
   ]
  },
  {
   "cell_type": "code",
   "execution_count": null,
   "id": "19bb2165-4e3e-418e-bd66-8b92018433bd",
   "metadata": {},
   "outputs": [],
   "source": []
  }
 ],
 "metadata": {
  "kernelspec": {
   "display_name": "Python 3 (ipykernel)",
   "language": "python",
   "name": "python3"
  },
  "language_info": {
   "codemirror_mode": {
    "name": "ipython",
    "version": 3
   },
   "file_extension": ".py",
   "mimetype": "text/x-python",
   "name": "python",
   "nbconvert_exporter": "python",
   "pygments_lexer": "ipython3",
   "version": "3.8.10"
  }
 },
 "nbformat": 4,
 "nbformat_minor": 5
}
